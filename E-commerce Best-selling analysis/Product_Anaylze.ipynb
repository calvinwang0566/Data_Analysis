{
 "cells": [
  {
   "cell_type": "code",
   "execution_count": 2,
   "metadata": {},
   "outputs": [
    {
     "name": "stderr",
     "output_type": "stream",
     "text": [
      "C:\\Anaconda3\\lib\\importlib\\_bootstrap.py:219: RuntimeWarning: numpy.ufunc size changed, may indicate binary incompatibility. Expected 192 from C header, got 216 from PyObject\n",
      "  return f(*args, **kwds)\n"
     ]
    }
   ],
   "source": [
    "import pandas as pd\n",
    "import numpy as np\n",
    "import statsmodels.api as sm\n",
    "import seaborn as sns\n",
    "import matplotlib.pyplot as plt\n",
    "# from wordcloud import WordCloud, ImageColorGenerator\n",
    "from collections import Counter\n",
    "from PIL import Image\n",
    "from sklearn import preprocessing"
   ]
  },
  {
   "cell_type": "code",
   "execution_count": 17,
   "metadata": {},
   "outputs": [
    {
     "data": {
      "text/html": [
       "<div>\n",
       "<style scoped>\n",
       "    .dataframe tbody tr th:only-of-type {\n",
       "        vertical-align: middle;\n",
       "    }\n",
       "\n",
       "    .dataframe tbody tr th {\n",
       "        vertical-align: top;\n",
       "    }\n",
       "\n",
       "    .dataframe thead th {\n",
       "        text-align: right;\n",
       "    }\n",
       "</style>\n",
       "<table border=\"1\" class=\"dataframe\">\n",
       "  <thead>\n",
       "    <tr style=\"text-align: right;\">\n",
       "      <th></th>\n",
       "      <th>Store</th>\n",
       "      <th>avg rating</th>\n",
       "      <th>products number</th>\n",
       "    </tr>\n",
       "  </thead>\n",
       "  <tbody>\n",
       "    <tr>\n",
       "      <td>0</td>\n",
       "      <td>amazon</td>\n",
       "      <td>3.140054</td>\n",
       "      <td>59321</td>\n",
       "    </tr>\n",
       "    <tr>\n",
       "      <td>1</td>\n",
       "      <td>dicks</td>\n",
       "      <td>1.834775</td>\n",
       "      <td>7000</td>\n",
       "    </tr>\n",
       "    <tr>\n",
       "      <td>2</td>\n",
       "      <td>rei</td>\n",
       "      <td>1.939690</td>\n",
       "      <td>10196</td>\n",
       "    </tr>\n",
       "  </tbody>\n",
       "</table>\n",
       "</div>"
      ],
      "text/plain": [
       "    Store  avg rating  products number\n",
       "0  amazon    3.140054            59321\n",
       "1   dicks    1.834775             7000\n",
       "2     rei    1.939690            10196"
      ]
     },
     "execution_count": 17,
     "metadata": {},
     "output_type": "execute_result"
    }
   ],
   "source": [
    "df = pd.read_csv(\"E_Products.csv\")\n",
    "\n",
    "df[\"Price\"] = pd.to_numeric(df[\"Price\"], errors='coerce')\n",
    "df[\"AverageRating\"] = pd.to_numeric(df[\"AverageRating\"], errors='coerce')\n",
    "df[\"ReviewNumber\"] = pd.to_numeric(df[\"ReviewNumber\"], errors='coerce')\n",
    "df[\"CreateDate\"] = pd.to_datetime(df[\"CreateDate\"])\n",
    "\n",
    "\n",
    "store_avg_rate = df.groupby(\"Store\").mean()[\"AverageRating\"]\n",
    "store_products_count = df.groupby(\"Store\").count()[\"_id\"]\n",
    "\n",
    "pd.DataFrame({'Store':['amazon','dicks','rei'], \"avg rating\":store_avg_rate, \"products number\":store_products_count}).reset_index(drop = True)"
   ]
  },
  {
   "cell_type": "code",
   "execution_count": 18,
   "metadata": {},
   "outputs": [
    {
     "data": {
      "text/html": [
       "<div>\n",
       "<style scoped>\n",
       "    .dataframe tbody tr th:only-of-type {\n",
       "        vertical-align: middle;\n",
       "    }\n",
       "\n",
       "    .dataframe tbody tr th {\n",
       "        vertical-align: top;\n",
       "    }\n",
       "\n",
       "    .dataframe thead th {\n",
       "        text-align: right;\n",
       "    }\n",
       "</style>\n",
       "<table border=\"1\" class=\"dataframe\">\n",
       "  <thead>\n",
       "    <tr style=\"text-align: right;\">\n",
       "      <th></th>\n",
       "      <th>Price</th>\n",
       "      <th>AverageRating</th>\n",
       "      <th>ReviewNumber</th>\n",
       "    </tr>\n",
       "  </thead>\n",
       "  <tbody>\n",
       "    <tr>\n",
       "      <td>count</td>\n",
       "      <td>75961.000000</td>\n",
       "      <td>73562.000000</td>\n",
       "      <td>75428.000000</td>\n",
       "    </tr>\n",
       "    <tr>\n",
       "      <td>mean</td>\n",
       "      <td>48.749922</td>\n",
       "      <td>2.882509</td>\n",
       "      <td>37.850188</td>\n",
       "    </tr>\n",
       "    <tr>\n",
       "      <td>std</td>\n",
       "      <td>61.058433</td>\n",
       "      <td>2.270955</td>\n",
       "      <td>111.851199</td>\n",
       "    </tr>\n",
       "    <tr>\n",
       "      <td>min</td>\n",
       "      <td>0.000000</td>\n",
       "      <td>0.000000</td>\n",
       "      <td>0.000000</td>\n",
       "    </tr>\n",
       "    <tr>\n",
       "      <td>25%</td>\n",
       "      <td>18.160000</td>\n",
       "      <td>0.000000</td>\n",
       "      <td>0.000000</td>\n",
       "    </tr>\n",
       "    <tr>\n",
       "      <td>50%</td>\n",
       "      <td>28.210000</td>\n",
       "      <td>4.400000</td>\n",
       "      <td>9.000000</td>\n",
       "    </tr>\n",
       "    <tr>\n",
       "      <td>75%</td>\n",
       "      <td>55.000000</td>\n",
       "      <td>4.700000</td>\n",
       "      <td>31.000000</td>\n",
       "    </tr>\n",
       "    <tr>\n",
       "      <td>max</td>\n",
       "      <td>949.000000</td>\n",
       "      <td>5.000000</td>\n",
       "      <td>3822.000000</td>\n",
       "    </tr>\n",
       "  </tbody>\n",
       "</table>\n",
       "</div>"
      ],
      "text/plain": [
       "              Price  AverageRating  ReviewNumber\n",
       "count  75961.000000   73562.000000  75428.000000\n",
       "mean      48.749922       2.882509     37.850188\n",
       "std       61.058433       2.270955    111.851199\n",
       "min        0.000000       0.000000      0.000000\n",
       "25%       18.160000       0.000000      0.000000\n",
       "50%       28.210000       4.400000      9.000000\n",
       "75%       55.000000       4.700000     31.000000\n",
       "max      949.000000       5.000000   3822.000000"
      ]
     },
     "execution_count": 18,
     "metadata": {},
     "output_type": "execute_result"
    }
   ],
   "source": [
    "df.describe()"
   ]
  },
  {
   "cell_type": "code",
   "execution_count": 15,
   "metadata": {},
   "outputs": [
    {
     "data": {
      "text/html": [
       "<div>\n",
       "<style scoped>\n",
       "    .dataframe tbody tr th:only-of-type {\n",
       "        vertical-align: middle;\n",
       "    }\n",
       "\n",
       "    .dataframe tbody tr th {\n",
       "        vertical-align: top;\n",
       "    }\n",
       "\n",
       "    .dataframe thead th {\n",
       "        text-align: right;\n",
       "    }\n",
       "</style>\n",
       "<table border=\"1\" class=\"dataframe\">\n",
       "  <thead>\n",
       "    <tr style=\"text-align: right;\">\n",
       "      <th></th>\n",
       "      <th>Store</th>\n",
       "      <th>avg rating</th>\n",
       "      <th>products number</th>\n",
       "    </tr>\n",
       "  </thead>\n",
       "  <tbody>\n",
       "    <tr>\n",
       "      <td>0</td>\n",
       "      <td>amazon</td>\n",
       "      <td>4.474549</td>\n",
       "      <td>12911</td>\n",
       "    </tr>\n",
       "    <tr>\n",
       "      <td>1</td>\n",
       "      <td>dicks</td>\n",
       "      <td>4.486759</td>\n",
       "      <td>230</td>\n",
       "    </tr>\n",
       "    <tr>\n",
       "      <td>2</td>\n",
       "      <td>rei</td>\n",
       "      <td>4.540249</td>\n",
       "      <td>241</td>\n",
       "    </tr>\n",
       "  </tbody>\n",
       "</table>\n",
       "</div>"
      ],
      "text/plain": [
       "    Store  avg rating  products number\n",
       "0  amazon    4.474549            12911\n",
       "1   dicks    4.486759              230\n",
       "2     rei    4.540249              241"
      ]
     },
     "execution_count": 15,
     "metadata": {},
     "output_type": "execute_result"
    }
   ],
   "source": [
    "df = df[df[\"ReviewNumber\"] >= 50]\n",
    "\n",
    "store_avg_rate = df.groupby(\"Store\").mean()[\"AverageRating\"]\n",
    "store_products_count = df.groupby(\"Store\").count()[\"_id\"]\n",
    "\n",
    "pd.DataFrame({'Store':['amazon','dicks','rei'], \"avg rating\":store_avg_rate, \"products number\":store_products_count}).reset_index(drop = True)"
   ]
  },
  {
   "cell_type": "code",
   "execution_count": 20,
   "metadata": {},
   "outputs": [
    {
     "name": "stdout",
     "output_type": "stream",
     "text": [
      "<class 'pandas.core.frame.DataFrame'>\n",
      "Int64Index: 13382 entries, 2098 to 76515\n",
      "Data columns (total 23 columns):\n",
      "_id              13382 non-null object\n",
      "ImageUrl         13188 non-null object\n",
      "Bullets          13382 non-null object\n",
      "FullMaterial     12587 non-null object\n",
      "CreateDate       13382 non-null object\n",
      "Color            13382 non-null object\n",
      "Description      13255 non-null object\n",
      "Gender           13252 non-null object\n",
      "ModifiedDate     13382 non-null object\n",
      "Brand            9787 non-null object\n",
      "Url              13382 non-null object\n",
      "Price            13382 non-null object\n",
      "Name             13381 non-null object\n",
      "Sport            11354 non-null object\n",
      "Clothing         13279 non-null object\n",
      "Material         11619 non-null object\n",
      "Feature          13382 non-null object\n",
      "AverageRating    13382 non-null float64\n",
      "StyleNumber      4298 non-null object\n",
      "ReviewNumber     13382 non-null float64\n",
      "Fulltext         13382 non-null object\n",
      "OurImage         13100 non-null object\n",
      "Store            13382 non-null object\n",
      "dtypes: float64(2), object(21)\n",
      "memory usage: 2.5+ MB\n"
     ]
    }
   ],
   "source": [
    "# 匯入 E_Products\n",
    "Product  = pd.read_csv('E_Products.csv')\n",
    "Product = Product[Product['ReviewNumber'] >= 50]    # 篩出評論數超過 50 的產品\n",
    "Product.info()"
   ]
  },
  {
   "cell_type": "code",
   "execution_count": 24,
   "metadata": {},
   "outputs": [
    {
     "data": {
      "text/html": [
       "<div>\n",
       "<style scoped>\n",
       "    .dataframe tbody tr th:only-of-type {\n",
       "        vertical-align: middle;\n",
       "    }\n",
       "\n",
       "    .dataframe tbody tr th {\n",
       "        vertical-align: top;\n",
       "    }\n",
       "\n",
       "    .dataframe thead th {\n",
       "        text-align: right;\n",
       "    }\n",
       "</style>\n",
       "<table border=\"1\" class=\"dataframe\">\n",
       "  <thead>\n",
       "    <tr style=\"text-align: right;\">\n",
       "      <th></th>\n",
       "      <th>AverageRating</th>\n",
       "      <th>ReviewNumber</th>\n",
       "    </tr>\n",
       "  </thead>\n",
       "  <tbody>\n",
       "    <tr>\n",
       "      <td>count</td>\n",
       "      <td>13382.000000</td>\n",
       "      <td>13382.000000</td>\n",
       "    </tr>\n",
       "    <tr>\n",
       "      <td>mean</td>\n",
       "      <td>4.475942</td>\n",
       "      <td>170.120012</td>\n",
       "    </tr>\n",
       "    <tr>\n",
       "      <td>std</td>\n",
       "      <td>0.160828</td>\n",
       "      <td>220.267857</td>\n",
       "    </tr>\n",
       "    <tr>\n",
       "      <td>min</td>\n",
       "      <td>2.923100</td>\n",
       "      <td>50.000000</td>\n",
       "    </tr>\n",
       "    <tr>\n",
       "      <td>25%</td>\n",
       "      <td>4.400000</td>\n",
       "      <td>69.000000</td>\n",
       "    </tr>\n",
       "    <tr>\n",
       "      <td>50%</td>\n",
       "      <td>4.500000</td>\n",
       "      <td>103.000000</td>\n",
       "    </tr>\n",
       "    <tr>\n",
       "      <td>75%</td>\n",
       "      <td>4.600000</td>\n",
       "      <td>180.000000</td>\n",
       "    </tr>\n",
       "    <tr>\n",
       "      <td>max</td>\n",
       "      <td>5.000000</td>\n",
       "      <td>3822.000000</td>\n",
       "    </tr>\n",
       "  </tbody>\n",
       "</table>\n",
       "</div>"
      ],
      "text/plain": [
       "       AverageRating  ReviewNumber\n",
       "count   13382.000000  13382.000000\n",
       "mean        4.475942    170.120012\n",
       "std         0.160828    220.267857\n",
       "min         2.923100     50.000000\n",
       "25%         4.400000     69.000000\n",
       "50%         4.500000    103.000000\n",
       "75%         4.600000    180.000000\n",
       "max         5.000000   3822.000000"
      ]
     },
     "execution_count": 24,
     "metadata": {},
     "output_type": "execute_result"
    }
   ],
   "source": [
    "Product.describe()"
   ]
  },
  {
   "cell_type": "code",
   "execution_count": 162,
   "metadata": {},
   "outputs": [
    {
     "data": {
      "text/plain": [
       "Store\n",
       "amazon-US    4.474549\n",
       "dicks        4.486759\n",
       "rei          4.540249\n",
       "Name: AverageRating, dtype: float64"
      ]
     },
     "execution_count": 162,
     "metadata": {},
     "output_type": "execute_result"
    }
   ],
   "source": [
    "Product.groupby('Store').mean()['AverageRating']"
   ]
  },
  {
   "cell_type": "code",
   "execution_count": 180,
   "metadata": {},
   "outputs": [
    {
     "data": {
      "text/html": [
       "<div>\n",
       "<style scoped>\n",
       "    .dataframe tbody tr th:only-of-type {\n",
       "        vertical-align: middle;\n",
       "    }\n",
       "\n",
       "    .dataframe tbody tr th {\n",
       "        vertical-align: top;\n",
       "    }\n",
       "\n",
       "    .dataframe thead th {\n",
       "        text-align: right;\n",
       "    }\n",
       "</style>\n",
       "<table border=\"1\" class=\"dataframe\">\n",
       "  <thead>\n",
       "    <tr style=\"text-align: right;\">\n",
       "      <th></th>\n",
       "      <th>Store</th>\n",
       "      <th>Product_Num</th>\n",
       "    </tr>\n",
       "  </thead>\n",
       "  <tbody>\n",
       "    <tr>\n",
       "      <th>0</th>\n",
       "      <td>amazon</td>\n",
       "      <td>12808</td>\n",
       "    </tr>\n",
       "    <tr>\n",
       "      <th>1</th>\n",
       "      <td>dicks</td>\n",
       "      <td>230</td>\n",
       "    </tr>\n",
       "    <tr>\n",
       "      <th>2</th>\n",
       "      <td>rei</td>\n",
       "      <td>241</td>\n",
       "    </tr>\n",
       "  </tbody>\n",
       "</table>\n",
       "</div>"
      ],
      "text/plain": [
       "    Store  Product_Num\n",
       "0  amazon        12808\n",
       "1   dicks          230\n",
       "2     rei          241"
      ]
     },
     "execution_count": 180,
     "metadata": {},
     "output_type": "execute_result"
    }
   ],
   "source": [
    "pd.DataFrame({'Store':['amazon','dicks','rei'],'Product_Num':Product.groupby('Store').count()['_id']}).reset_index(drop = True)"
   ]
  },
  {
   "cell_type": "code",
   "execution_count": 39,
   "metadata": {},
   "outputs": [],
   "source": [
    "# Product = Product.sort_values(by = 'ReviewNumber', ascending = False)\n",
    "# Product.head(10)"
   ]
  },
  {
   "cell_type": "markdown",
   "metadata": {},
   "source": [
    "### 價格與平均評價呈弱正相關"
   ]
  },
  {
   "cell_type": "code",
   "execution_count": 23,
   "metadata": {},
   "outputs": [
    {
     "data": {
      "text/plain": [
       "<matplotlib.collections.PathCollection at 0x1a68ff38808>"
      ]
     },
     "execution_count": 23,
     "metadata": {},
     "output_type": "execute_result"
    },
    {
     "data": {
      "image/png": "[encoded data removed]",
      "text/plain": [
       "<Figure size 432x288 with 1 Axes>"
      ]
     },
     "metadata": {
      "needs_background": "light"
     },
     "output_type": "display_data"
    }
   ],
   "source": [
    "from sklearn import preprocessing\n",
    "\n",
    "a = Product.sort_values('ReviewNumber',ascending= False).head(1000)\n",
    "\n",
    "a[\"Price\"] = pd.to_numeric(df[\"Price\"], errors='coerce')\n",
    "a[\"AverageRating\"] = pd.to_numeric(df[\"AverageRating\"], errors='coerce')\n",
    "a[\"ReviewNumber\"] = pd.to_numeric(df[\"ReviewNumber\"], errors='coerce')\n",
    "a[\"CreateDate\"] = pd.to_datetime(df[\"CreateDate\"])\n",
    "\n",
    "# 將數值標準化\n",
    "a['Price'] = preprocessing.scale(a['Price'])\n",
    "a['AverageRating'] = preprocessing.scale(a['AverageRating'])\n",
    "\n",
    "plt.scatter(a['Price'], a['AverageRating'])"
   ]
  },
  {
   "cell_type": "code",
   "execution_count": 167,
   "metadata": {},
   "outputs": [
    {
     "data": {
      "text/plain": [
       "array([[1.        , 0.21292202],\n",
       "       [0.21292202, 1.        ]])"
      ]
     },
     "execution_count": 167,
     "metadata": {},
     "output_type": "execute_result"
    }
   ],
   "source": [
    "np.corrcoef(a['Price'],a['AverageRating'])"
   ]
  },
  {
   "cell_type": "markdown",
   "metadata": {},
   "source": [
    "### Clothing的種類是否影響評分"
   ]
  },
  {
   "cell_type": "code",
   "execution_count": 40,
   "metadata": {},
   "outputs": [],
   "source": [
    "def replace_all(text, dic):\n",
    "    for i, j in dic.items():\n",
    "        text = text.replace(i, j)\n",
    "    return text"
   ]
  },
  {
   "cell_type": "code",
   "execution_count": 173,
   "metadata": {},
   "outputs": [],
   "source": [
    "Product_clothing = Product[Product['Clothing'].isnull() == False]\n",
    "Product_clothing = Product_clothing[Product_clothing['Clothing'] != \"[]\"]\n",
    "tmp_dict = {}\n",
    "Product_clothing = Product_clothing.reset_index(drop = True)\n",
    "\n",
    "\n",
    "for i in range(Product_clothing.shape[0]):\n",
    "    tmp = Product_clothing['Clothing'][i].replace(\"[\", \"\").replace(\"]\", \"\").split(',')\n",
    "    \n",
    "    for j in range(len(tmp)):\n",
    "        tmp[j] = tmp[j].strip(\" \")\n",
    "        tmp[j] = tmp[j].strip(\"'\")\n",
    "        if tmp[j] not in tmp_dict:\n",
    "            tmp_dict[tmp[j]] = 1\n",
    "        else:\n",
    "            tmp_dict[tmp[j]] += 1"
   ]
  },
  {
   "cell_type": "code",
   "execution_count": 174,
   "metadata": {},
   "outputs": [
    {
     "data": {
      "text/plain": [
       "{'Pants': 1689,\n",
       " 'Jackets & Vests': 1610,\n",
       " 'Other Accessories': 1311,\n",
       " 'Tops': 1065,\n",
       " 'Leggings & Tights': 1054,\n",
       " 'Shorts': 1043,\n",
       " 'Swimwear': 980,\n",
       " 'Hoodie & Sweatshirt': 897,\n",
       " 'Compression wear': 856,\n",
       " 'Sports Bra': 845,\n",
       " 'Sock': 761,\n",
       " 'Long Sleeve': 731,\n",
       " 'Short Sleeve': 712,\n",
       " 'Fleece': 590,\n",
       " 'Bottoms': 461,\n",
       " 'Vest': 414,\n",
       " 'Tank': 335,\n",
       " 'Hats & Scarves': 304,\n",
       " 'Headband & Sweatband': 170,\n",
       " 'Softshells': 150,\n",
       " 'Insulated & Down': 142,\n",
       " 'Surfing': 140,\n",
       " 'WetSuit': 131,\n",
       " 'Skirt & Dresses': 128,\n",
       " 'Polo': 93,\n",
       " 'Windwear': 80,\n",
       " 'Rainwear': 59,\n",
       " 'Accessories': 24}"
      ]
     },
     "execution_count": 174,
     "metadata": {},
     "output_type": "execute_result"
    }
   ],
   "source": [
    "import operator\n",
    "\n",
    "sorted_dic = dict(sorted(tmp_dict.items(), key = operator.itemgetter(1), reverse = True))\n",
    "sorted_dic"
   ]
  },
  {
   "cell_type": "code",
   "execution_count": 122,
   "metadata": {},
   "outputs": [],
   "source": [
    "# from wordcloud import WordCloud, ImageColorGenerator\n",
    "# from collections import Counter\n",
    "# from PIL import Image\n",
    "\n",
    "# # mask = np.array(Image.open(r\"shirt.jpeg\"))\n",
    "# # my_wordcloud = WordCloud(background_color=\"white\",mask = mask , collocations=False, width=2400, height=2400, margin=2)  \n",
    "# my_wordcloud.generate_from_frequencies(frequencies=Counter(tmp_dict))\n",
    " \n",
    "# #產生圖片\n",
    "# plt.figure(figsize=(20,10), facecolor='k')\n",
    "# plt.imshow(my_wordcloud,interpolation='bilinear')\n",
    "# plt.axis(\"off\")\n",
    "# plt.tight_layout(pad=0)\n",
    "# #顯示用\n",
    "# plt.show()"
   ]
  },
  {
   "cell_type": "code",
   "execution_count": 175,
   "metadata": {},
   "outputs": [
    {
     "name": "stdout",
     "output_type": "stream",
     "text": [
      "Pants 0.24\n",
      "Jackets & Vests 0.0\n",
      "Other Accessories 2.05\n",
      "Swimwear 3.06\n",
      "Hoodie & Sweatshirt 0.35\n"
     ]
    }
   ],
   "source": [
    "items = ['Pants', 'Jackets & Vests','Other Accessories', 'Swimwear', 'Hoodie & Sweatshirt']\n",
    "\n",
    "Producttemp = Product_clothing.sort_values('AverageRating',ascending=False).head(100).reset_index(drop = True)\n",
    "top_list = []\n",
    "all_list = []\n",
    "\n",
    "for item in items:\n",
    "    counter = 0\n",
    "    for i in range(Producttemp.shape[0]):\n",
    "        if item in Producttemp['Clothing'][i]:\n",
    "            counter +=1\n",
    "    top_per = counter / 100\n",
    "    top_list.append(top_per)\n",
    "\n",
    "\n",
    "for item in items:\n",
    "    counter = 0\n",
    "    for i in range(Product_clothing.shape[0]):\n",
    "        if item in Product_clothing['Clothing'][i]:\n",
    "            counter += 1\n",
    "    all_per = counter / Product_clothing.shape[0]\n",
    "    all_list.append(all_per)\n",
    "\n",
    "for i in range(len(items)):\n",
    "    print(items[i], str(round(top_list[i]/all_list[i], 2)))"
   ]
  },
  {
   "cell_type": "markdown",
   "metadata": {},
   "source": [
    "### Feature 是否影響評分"
   ]
  },
  {
   "cell_type": "code",
   "execution_count": 176,
   "metadata": {},
   "outputs": [],
   "source": [
    "Product_feature = Product[Product[\"Feature\"] != \"[]\"].reset_index(drop = True)\n",
    "feature_dict = {}\n",
    "\n",
    "for i in range(Product_feature.shape[0]):\n",
    "    tmp = Product_feature['Feature'][i].replace(\"[\", \"\").replace(\"]\", \"\").split(',')\n",
    "    \n",
    "    for j in range(len(tmp)):\n",
    "        tmp[j] = tmp[j].strip(\" \")\n",
    "        tmp[j] = tmp[j].strip(\"'\")\n",
    "        if tmp[j] not in feature_dict:\n",
    "            feature_dict[tmp[j]] = 1\n",
    "        else:\n",
    "            feature_dict[tmp[j]] += 1"
   ]
  },
  {
   "cell_type": "code",
   "execution_count": 177,
   "metadata": {},
   "outputs": [],
   "source": [
    "sorted_dic = dict(sorted(feature_dict.items(), key = operator.itemgetter(1), reverse = True))\n",
    "\n",
    "from itertools import islice\n",
    "\n",
    "def take(n, iterable):\n",
    "    \"Return first n items of the iterable as a list\"\n",
    "    return list(islice(iterable, n))\n",
    "\n",
    "n_items = take(10, sorted_dic.items())\n",
    "feature_list = []\n",
    "\n",
    "for i in range(len(n_items)):\n",
    "    feature_list.append(n_items[i][0])"
   ]
  },
  {
   "cell_type": "code",
   "execution_count": 178,
   "metadata": {
    "scrolled": false
   },
   "outputs": [
    {
     "name": "stdout",
     "output_type": "stream",
     "text": [
      "單向導溼快乾 1.38\n",
      "涼爽透氣 1.71\n",
      "蒸發性涼感 1.96\n",
      "結構性透氣 2.4\n",
      "保暖禦寒 0.74\n",
      "刷毛布 0.34\n",
      "提升運動效能設計 0.73\n",
      "舒適伸展 1.36\n",
      "四面彈 0.44\n",
      "防水 1.65\n"
     ]
    }
   ],
   "source": [
    "Producttemp = Product_feature.sort_values('AverageRating',ascending=False).head(100).reset_index(drop = True)\n",
    "top_list = []\n",
    "all_list = []\n",
    "\n",
    "for item in feature_list:\n",
    "    counter = 0\n",
    "    for i in range(Producttemp.shape[0]):\n",
    "        if item in Producttemp['Feature'][i]:\n",
    "            counter +=1\n",
    "    top_per = counter / 100\n",
    "    top_list.append(top_per)\n",
    "\n",
    "\n",
    "for item in feature_list:\n",
    "    counter = 0\n",
    "    for i in range(Product_feature.shape[0]):\n",
    "        if item in Product_feature['Feature'][i]:\n",
    "            counter += 1\n",
    "    all_per = counter / Product_feature.shape[0]\n",
    "    all_list.append(all_per)\n",
    "\n",
    "for i in range(len(feature_list)):\n",
    "    print(feature_list[i], str(round(top_list[i]/all_list[i], 2)))"
   ]
  },
  {
   "cell_type": "markdown",
   "metadata": {},
   "source": [
    "### 哪種運動服飾評分最佳"
   ]
  },
  {
   "cell_type": "code",
   "execution_count": 170,
   "metadata": {},
   "outputs": [
    {
     "data": {
      "text/html": [
       "<div>\n",
       "<style scoped>\n",
       "    .dataframe tbody tr th:only-of-type {\n",
       "        vertical-align: middle;\n",
       "    }\n",
       "\n",
       "    .dataframe tbody tr th {\n",
       "        vertical-align: top;\n",
       "    }\n",
       "\n",
       "    .dataframe thead th {\n",
       "        text-align: right;\n",
       "    }\n",
       "</style>\n",
       "<table border=\"1\" class=\"dataframe\">\n",
       "  <thead>\n",
       "    <tr style=\"text-align: right;\">\n",
       "      <th></th>\n",
       "      <th>Gender</th>\n",
       "      <th>_id</th>\n",
       "      <th>ImageUrl</th>\n",
       "      <th>Bullets</th>\n",
       "      <th>FullMaterial</th>\n",
       "      <th>CreateDate</th>\n",
       "      <th>Color</th>\n",
       "      <th>Description</th>\n",
       "      <th>ModifiedDate</th>\n",
       "      <th>Brand</th>\n",
       "      <th>...</th>\n",
       "      <th>Sport</th>\n",
       "      <th>Clothing</th>\n",
       "      <th>Material</th>\n",
       "      <th>Feature</th>\n",
       "      <th>AverageRating</th>\n",
       "      <th>StyleNumber</th>\n",
       "      <th>ReviewNumber</th>\n",
       "      <th>Fulltext</th>\n",
       "      <th>OurImage</th>\n",
       "      <th>Store</th>\n",
       "    </tr>\n",
       "  </thead>\n",
       "  <tbody>\n",
       "    <tr>\n",
       "      <td>0</td>\n",
       "      <td>men</td>\n",
       "      <td>5323</td>\n",
       "      <td>5234</td>\n",
       "      <td>5323</td>\n",
       "      <td>4951</td>\n",
       "      <td>5323</td>\n",
       "      <td>5323</td>\n",
       "      <td>5254</td>\n",
       "      <td>5323</td>\n",
       "      <td>3837</td>\n",
       "      <td>...</td>\n",
       "      <td>4535</td>\n",
       "      <td>5323</td>\n",
       "      <td>4463</td>\n",
       "      <td>5323</td>\n",
       "      <td>5323</td>\n",
       "      <td>1678</td>\n",
       "      <td>5323</td>\n",
       "      <td>5323</td>\n",
       "      <td>5175</td>\n",
       "      <td>5323</td>\n",
       "    </tr>\n",
       "    <tr>\n",
       "      <td>1</td>\n",
       "      <td>women</td>\n",
       "      <td>4920</td>\n",
       "      <td>4883</td>\n",
       "      <td>4920</td>\n",
       "      <td>4721</td>\n",
       "      <td>4920</td>\n",
       "      <td>4920</td>\n",
       "      <td>4872</td>\n",
       "      <td>4920</td>\n",
       "      <td>3554</td>\n",
       "      <td>...</td>\n",
       "      <td>4446</td>\n",
       "      <td>4920</td>\n",
       "      <td>4398</td>\n",
       "      <td>4920</td>\n",
       "      <td>4920</td>\n",
       "      <td>1546</td>\n",
       "      <td>4920</td>\n",
       "      <td>4920</td>\n",
       "      <td>4868</td>\n",
       "      <td>4920</td>\n",
       "    </tr>\n",
       "  </tbody>\n",
       "</table>\n",
       "<p>2 rows × 23 columns</p>\n",
       "</div>"
      ],
      "text/plain": [
       "  Gender   _id  ImageUrl  Bullets  FullMaterial  CreateDate  Color  \\\n",
       "0    men  5323      5234     5323          4951        5323   5323   \n",
       "1  women  4920      4883     4920          4721        4920   4920   \n",
       "\n",
       "   Description  ModifiedDate  Brand  ...  Sport  Clothing  Material  Feature  \\\n",
       "0         5254          5323   3837  ...   4535      5323      4463     5323   \n",
       "1         4872          4920   3554  ...   4446      4920      4398     4920   \n",
       "\n",
       "   AverageRating  StyleNumber  ReviewNumber  Fulltext  OurImage  Store  \n",
       "0           5323         1678          5323      5323      5175   5323  \n",
       "1           4920         1546          4920      4920      4868   4920  \n",
       "\n",
       "[2 rows x 23 columns]"
      ]
     },
     "execution_count": 170,
     "metadata": {},
     "output_type": "execute_result"
    }
   ],
   "source": []
  }
 ],
 "metadata": {
  "kernelspec": {
   "display_name": "Python 3",
   "language": "python",
   "name": "python3"
  },
  "language_info": {
   "codemirror_mode": {
    "name": "ipython",
    "version": 3
   },
   "file_extension": ".py",
   "mimetype": "text/x-python",
   "name": "python",
   "nbconvert_exporter": "python",
   "pygments_lexer": "ipython3",
   "version": "3.7.4"
  }
 },
 "nbformat": 4,
 "nbformat_minor": 2
}
